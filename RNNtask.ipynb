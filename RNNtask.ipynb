{
  "nbformat": 4,
  "nbformat_minor": 0,
  "metadata": {
    "colab": {
      "provenance": [],
      "authorship_tag": "ABX9TyOeCDDGhirOLNWJBEUpBDd/",
      "include_colab_link": true
    },
    "kernelspec": {
      "name": "python3",
      "display_name": "Python 3"
    },
    "language_info": {
      "name": "python"
    }
  },
  "cells": [
    {
      "cell_type": "markdown",
      "metadata": {
        "id": "view-in-github",
        "colab_type": "text"
      },
      "source": [
        "<a href=\"https://colab.research.google.com/github/ReemYousri7/Task_NN/blob/main/RNNtask.ipynb\" target=\"_parent\"><img src=\"https://colab.research.google.com/assets/colab-badge.svg\" alt=\"Open In Colab\"/></a>"
      ]
    },
    {
      "cell_type": "code",
      "execution_count": 10,
      "metadata": {
        "id": "zs8YmBbuSlUk"
      },
      "outputs": [],
      "source": [
        "import random"
      ]
    },
    {
      "cell_type": "code",
      "source": [
        "def softmax(x):\n",
        "    exps = [pow(2.718, i) for i in x]\n",
        "    sum_exps = sum(exps)\n",
        "    return [i/sum_exps for i in exps]\n",
        "\n",
        "\n",
        "def argmax(lst):\n",
        "    idx = 0\n",
        "    max_val = lst[0]\n",
        "    for i in range(1, len(lst)):\n",
        "        if lst[i] > max_val:\n",
        "            max_val = lst[i]\n",
        "            idx = i\n",
        "    return idx\n",
        "\n",
        "def random_matrix(rows, cols):\n",
        "    return [[(random.random() * 2 - 1) * 0.1 for _ in range(cols)] for _ in range(rows)]\n",
        "\n",
        "def random_vector(size):\n",
        "    return [(random.random() * 2 - 1) * 0.1 for _ in range(size)]"
      ],
      "metadata": {
        "id": "XudMJNSAWkS8"
      },
      "execution_count": null,
      "outputs": []
    },
    {
      "cell_type": "code",
      "source": [
        "word_to_idx = {\"the\": 0, \"quick\": 1, \"brown\": 2, \"fox\": 3}\n",
        "idx_to_word = {0: \"the\", 1: \"quick\", 2: \"brown\", 3: \"fox\"}\n",
        "\n",
        "input_size = 4\n",
        "hidden_size = 8\n",
        "output_size = 4\n",
        "\n",
        "Wxh = random_matrix(input_size, hidden_size)\n",
        "Whh = random_matrix(hidden_size, hidden_size)\n",
        "Why = random_matrix(hidden_size, output_size)\n",
        "bh = random_vector(hidden_size)\n",
        "by = random_vector(output_size)"
      ],
      "metadata": {
        "id": "GtBd8fsCSnAC"
      },
      "execution_count": 11,
      "outputs": []
    },
    {
      "cell_type": "code",
      "source": [
        "train_input = [0, 1, 2]\n",
        "train_target = 3"
      ],
      "metadata": {
        "id": "EfkL1ThBVX74"
      },
      "execution_count": 12,
      "outputs": []
    },
    {
      "cell_type": "code",
      "source": [
        "learning_rate = 0.05\n",
        "epochs = 1000\n",
        "\n",
        "for epoch in range(epochs):\n",
        "    hs = [[0.0 for _ in range(hidden_size)]]\n",
        "\n",
        "    for t in range(3):\n",
        "        x = [0.0] * input_size\n",
        "        x[train_input[t]] = 1.0\n",
        "\n",
        "        prev_h = hs[-1]\n",
        "        h = [0.0] * hidden_size\n",
        "\n",
        "        for i in range(hidden_size):\n",
        "            for j in range(input_size):\n",
        "                h[i] += Wxh[j][i] * x[j]\n",
        "            for j in range(hidden_size):\n",
        "                h[i] += Whh[j][i] * prev_h[j]\n",
        "            h[i] += bh[i]\n",
        "            h[i] = max(0, h[i])\n",
        "\n",
        "        hs.append(h)\n",
        "\n",
        "    y = [0.0] * output_size\n",
        "    last_h = hs[-1]\n",
        "\n",
        "    for i in range(output_size):\n",
        "        for j in range(hidden_size):\n",
        "            y[i] += Why[j][i] * last_h[j]\n",
        "        y[i] += by[i]\n",
        "\n",
        "    probs = softmax(y)\n",
        "\n",
        "    loss = -1 * (probs[train_target])\n",
        "\n",
        "    dy = probs[:]\n",
        "    dy[train_target] -= 1\n",
        "    dWhy = [[0.0 for _ in range(output_size)] for _ in range(hidden_size)]\n",
        "    dby = [0.0 for _ in range(output_size)]\n",
        "\n",
        "    for i in range(output_size):\n",
        "        for j in range(hidden_size):\n",
        "            dWhy[j][i] += last_h[j] * dy[i]\n",
        "        dby[i] += dy[i]\n",
        "\n",
        "    for i in range(hidden_size):\n",
        "        for j in range(output_size):\n",
        "            Why[i][j] -= learning_rate * dWhy[i][j]\n",
        "\n",
        "    for i in range(output_size):\n",
        "        by[i] -= learning_rate * dby[i]\n",
        "\n",
        "    if (epoch+1) % 200 == 0:\n",
        "        print(f\"Epoch {epoch+1}, Loss: {loss:.4f}\")"
      ],
      "metadata": {
        "colab": {
          "base_uri": "https://localhost:8080/"
        },
        "id": "eHYmS8FXVg48",
        "outputId": "37a80269-425c-4e3e-ac58-e0dfce1503ad"
      },
      "execution_count": 13,
      "outputs": [
        {
          "output_type": "stream",
          "name": "stdout",
          "text": [
            "Epoch 200, Loss: -0.9137\n",
            "Epoch 400, Loss: -0.9595\n",
            "Epoch 600, Loss: -0.9738\n",
            "Epoch 800, Loss: -0.9806\n",
            "Epoch 1000, Loss: -0.9847\n"
          ]
        }
      ]
    },
    {
      "cell_type": "code",
      "source": [
        "print(\"\\nTesting:\")\n",
        "\n",
        "user_input = input(\"Enter first 3 words separated by space: \").strip().split()\n",
        "\n",
        "valid = True\n",
        "for word in user_input:\n",
        "    if word not in word_to_idx:\n",
        "        print(f\"Word '{word}' not in vocabulary!\")\n",
        "        valid = False\n",
        "\n",
        "if valid:\n",
        "    test_input = [word_to_idx[word] for word in user_input]\n",
        "\n",
        "    hs = [[0.0] * hidden_size]\n",
        "\n",
        "    for t in range(3):\n",
        "        x = [0.0] * input_size\n",
        "        x[test_input[t]] = 1.0\n",
        "\n",
        "        prev_h = hs[-1]\n",
        "        h = [0.0] * hidden_size\n",
        "\n",
        "        for i in range(hidden_size):\n",
        "            for j in range(input_size):\n",
        "                h[i] += Wxh[j][i] * x[j]\n",
        "            for j in range(hidden_size):\n",
        "                h[i] += Whh[j][i] * prev_h[j]\n",
        "            h[i] += bh[i]\n",
        "            h[i] = max(0, h[i])\n",
        "\n",
        "        hs.append(h)\n",
        "\n",
        "    y = [0.0] * output_size\n",
        "    last_h = hs[-1]\n",
        "\n",
        "    for i in range(output_size):\n",
        "        for j in range(hidden_size):\n",
        "            y[i] += Why[j][i] * last_h[j]\n",
        "        y[i] += by[i]\n",
        "\n",
        "    probs = softmax(y)\n",
        "    predicted_idx = argmax(probs)\n",
        "\n",
        "    print(f\"Predicted next word: {idx_to_word[predicted_idx]}\")"
      ],
      "metadata": {
        "colab": {
          "base_uri": "https://localhost:8080/"
        },
        "id": "C2hDMS4wVvnZ",
        "outputId": "fc1f943b-7844-4b92-d289-169af1485c43"
      },
      "execution_count": 16,
      "outputs": [
        {
          "output_type": "stream",
          "name": "stdout",
          "text": [
            "\n",
            "Testing:\n",
            "Enter first 3 words separated by space: the quick brown\n",
            "Predicted next word: fox\n"
          ]
        }
      ]
    },
    {
      "cell_type": "code",
      "source": [],
      "metadata": {
        "id": "Sn-79ojIV1jy"
      },
      "execution_count": 16,
      "outputs": []
    }
  ]
}